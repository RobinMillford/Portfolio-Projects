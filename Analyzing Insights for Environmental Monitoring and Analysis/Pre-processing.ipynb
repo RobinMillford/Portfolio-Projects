{
 "cells": [
  {
   "cell_type": "code",
   "execution_count": 1,
   "metadata": {},
   "outputs": [],
   "source": [
    "import pandas as pd"
   ]
  },
  {
   "cell_type": "code",
   "execution_count": 2,
   "metadata": {},
   "outputs": [
    {
     "name": "stderr",
     "output_type": "stream",
     "text": [
      "C:\\Users\\Yamin Hossain\\AppData\\Local\\Temp\\ipykernel_24000\\3027112112.py:1: DtypeWarning: Columns (1,4,6) have mixed types. Specify dtype option on import or set low_memory=False.\n",
      "  df = pd.read_csv(\"iot_telemetry_data.csv\")\n"
     ]
    }
   ],
   "source": [
    "df = pd.read_csv(\"iot_telemetry_data.csv\")"
   ]
  },
  {
   "cell_type": "code",
   "execution_count": 3,
   "metadata": {},
   "outputs": [
    {
     "data": {
      "text/html": [
       "<div>\n",
       "<style scoped>\n",
       "    .dataframe tbody tr th:only-of-type {\n",
       "        vertical-align: middle;\n",
       "    }\n",
       "\n",
       "    .dataframe tbody tr th {\n",
       "        vertical-align: top;\n",
       "    }\n",
       "\n",
       "    .dataframe thead th {\n",
       "        text-align: right;\n",
       "    }\n",
       "</style>\n",
       "<table border=\"1\" class=\"dataframe\">\n",
       "  <thead>\n",
       "    <tr style=\"text-align: right;\">\n",
       "      <th></th>\n",
       "      <th>ts</th>\n",
       "      <th>device</th>\n",
       "      <th>co</th>\n",
       "      <th>humidity</th>\n",
       "      <th>light</th>\n",
       "      <th>lpg</th>\n",
       "      <th>motion</th>\n",
       "      <th>smoke</th>\n",
       "      <th>temp</th>\n",
       "    </tr>\n",
       "  </thead>\n",
       "  <tbody>\n",
       "    <tr>\n",
       "      <th>0</th>\n",
       "      <td>1.590000e+09</td>\n",
       "      <td>b8:27:eb:bf:9d:51</td>\n",
       "      <td>0.004956</td>\n",
       "      <td>51.000000</td>\n",
       "      <td>False</td>\n",
       "      <td>0.007651</td>\n",
       "      <td>False</td>\n",
       "      <td>0.020411</td>\n",
       "      <td>22.700000</td>\n",
       "    </tr>\n",
       "    <tr>\n",
       "      <th>1</th>\n",
       "      <td>1.590000e+09</td>\n",
       "      <td>00:0f:00:70:91:0a</td>\n",
       "      <td>0.002840</td>\n",
       "      <td>76.000000</td>\n",
       "      <td>False</td>\n",
       "      <td>0.005114</td>\n",
       "      <td>False</td>\n",
       "      <td>0.013275</td>\n",
       "      <td>19.700001</td>\n",
       "    </tr>\n",
       "    <tr>\n",
       "      <th>2</th>\n",
       "      <td>1.590000e+09</td>\n",
       "      <td>b8:27:eb:bf:9d:51</td>\n",
       "      <td>0.004976</td>\n",
       "      <td>50.900000</td>\n",
       "      <td>False</td>\n",
       "      <td>0.007673</td>\n",
       "      <td>False</td>\n",
       "      <td>0.020475</td>\n",
       "      <td>22.600000</td>\n",
       "    </tr>\n",
       "    <tr>\n",
       "      <th>3</th>\n",
       "      <td>1.590000e+09</td>\n",
       "      <td>1c:bf:ce:15:ec:4d</td>\n",
       "      <td>0.004403</td>\n",
       "      <td>76.800003</td>\n",
       "      <td>True</td>\n",
       "      <td>0.007023</td>\n",
       "      <td>False</td>\n",
       "      <td>0.018628</td>\n",
       "      <td>27.000000</td>\n",
       "    </tr>\n",
       "    <tr>\n",
       "      <th>4</th>\n",
       "      <td>1.590000e+09</td>\n",
       "      <td>b8:27:eb:bf:9d:51</td>\n",
       "      <td>0.004967</td>\n",
       "      <td>50.900000</td>\n",
       "      <td>False</td>\n",
       "      <td>0.007664</td>\n",
       "      <td>False</td>\n",
       "      <td>0.020448</td>\n",
       "      <td>22.600000</td>\n",
       "    </tr>\n",
       "  </tbody>\n",
       "</table>\n",
       "</div>"
      ],
      "text/plain": [
       "             ts             device        co   humidity  light       lpg  \\\n",
       "0  1.590000e+09  b8:27:eb:bf:9d:51  0.004956  51.000000  False  0.007651   \n",
       "1  1.590000e+09  00:0f:00:70:91:0a  0.002840  76.000000  False  0.005114   \n",
       "2  1.590000e+09  b8:27:eb:bf:9d:51  0.004976  50.900000  False  0.007673   \n",
       "3  1.590000e+09  1c:bf:ce:15:ec:4d  0.004403  76.800003   True  0.007023   \n",
       "4  1.590000e+09  b8:27:eb:bf:9d:51  0.004967  50.900000  False  0.007664   \n",
       "\n",
       "  motion     smoke       temp  \n",
       "0  False  0.020411  22.700000  \n",
       "1  False  0.013275  19.700001  \n",
       "2  False  0.020475  22.600000  \n",
       "3  False  0.018628  27.000000  \n",
       "4  False  0.020448  22.600000  "
      ]
     },
     "execution_count": 3,
     "metadata": {},
     "output_type": "execute_result"
    }
   ],
   "source": [
    "df.head()"
   ]
  },
  {
   "cell_type": "code",
   "execution_count": 4,
   "metadata": {},
   "outputs": [
    {
     "data": {
      "text/plain": [
       "352242"
      ]
     },
     "execution_count": 4,
     "metadata": {},
     "output_type": "execute_result"
    }
   ],
   "source": [
    "df.duplicated().sum()"
   ]
  },
  {
   "cell_type": "code",
   "execution_count": 5,
   "metadata": {},
   "outputs": [],
   "source": [
    "# Drop duplicate rows\n",
    "df.drop_duplicates(inplace=True)"
   ]
  },
  {
   "cell_type": "code",
   "execution_count": 6,
   "metadata": {},
   "outputs": [
    {
     "data": {
      "text/plain": [
       "0"
      ]
     },
     "execution_count": 6,
     "metadata": {},
     "output_type": "execute_result"
    }
   ],
   "source": [
    "df.duplicated().sum()"
   ]
  },
  {
   "cell_type": "code",
   "execution_count": 7,
   "metadata": {},
   "outputs": [
    {
     "data": {
      "text/plain": [
       "ts          1\n",
       "device      1\n",
       "co          1\n",
       "humidity    1\n",
       "light       1\n",
       "lpg         1\n",
       "motion      1\n",
       "smoke       1\n",
       "temp        1\n",
       "dtype: int64"
      ]
     },
     "execution_count": 7,
     "metadata": {},
     "output_type": "execute_result"
    }
   ],
   "source": [
    "df.isna().sum()"
   ]
  },
  {
   "attachments": {},
   "cell_type": "markdown",
   "metadata": {},
   "source": [
    "    ts: This column represents the timestamp or time stamp of each data entry. It indicates the date and time at which the telemetry data was recorded. The timestamp allows you to track and analyze the data over time.\n",
    "\n",
    "    device: The \"device\" column indicates the identifier or name of the specific device or sensor from which the telemetry data was collected. Each device may correspond to a different location or type of environmental monitoring.\n",
    "\n",
    "    co: The \"co\" column represents the level of carbon monoxide in the environment. Carbon monoxide is a colorless and odorless gas that can be harmful at high concentrations. Monitoring CO levels is important for assessing air quality and potential health risks.\n",
    "\n",
    "    humidity: This column denotes the relative humidity in the environment. Humidity refers to the amount of moisture or water vapor present in the air. Monitoring humidity levels is crucial for understanding moisture levels, predicting weather conditions, and assessing potential impacts on various ecosystems.\n",
    "\n",
    "    light: The \"light\" column indicates the intensity or level of light in the environment. Light levels can vary based on factors such as time of day, weather conditions, and surrounding objects. Monitoring light levels can be useful for applications such as energy efficiency, plant growth, or security systems.\n",
    "\n",
    "    lpg: This column represents the presence or concentration of liquefied petroleum gas (LPG) in the environment. LPG is a flammable gas commonly used for heating, cooking, and other purposes. Monitoring LPG levels is important for safety and to prevent potential hazards associated with gas leaks or accidents.\n",
    "\n",
    "    motion: The \"motion\" column indicates the presence or detection of motion in the environment. It may be measured using motion sensors or other detection mechanisms. Monitoring motion can be useful for security systems, energy efficiency, or activity recognition in certain applications.\n",
    "\n",
    "    smoke: This column represents the presence or concentration of smoke in the environment. Smoke can be an indicator of fire or other sources of air pollution. Monitoring smoke levels is critical for fire detection, air quality assessment, and early warning systems.\n",
    "\n",
    "    temp: The \"temp\" column denotes the temperature in the environment. Temperature refers to the degree of hotness or coldness in the air. Monitoring temperature is essential for various applications, including weather forecasting, climate studies, and energy management."
   ]
  },
  {
   "cell_type": "code",
   "execution_count": 8,
   "metadata": {},
   "outputs": [
    {
     "data": {
      "text/plain": [
       "1.590000e+09    52941\n",
       "Name: ts, dtype: int64"
      ]
     },
     "execution_count": 8,
     "metadata": {},
     "output_type": "execute_result"
    }
   ],
   "source": [
    "df[\"ts\"].value_counts()"
   ]
  },
  {
   "cell_type": "code",
   "execution_count": 9,
   "metadata": {},
   "outputs": [],
   "source": [
    "df['ts'].fillna(1.590000e+09, inplace=True)"
   ]
  },
  {
   "cell_type": "code",
   "execution_count": 10,
   "metadata": {},
   "outputs": [
    {
     "data": {
      "text/plain": [
       "b8:27:eb:bf:9d:51    34020\n",
       "1c:bf:ce:15:ec:4d    12137\n",
       "00:0f:00:70:91:0a     6784\n",
       "Name: device, dtype: int64"
      ]
     },
     "execution_count": 10,
     "metadata": {},
     "output_type": "execute_result"
    }
   ],
   "source": [
    "df[\"device\"].value_counts()"
   ]
  },
  {
   "attachments": {},
   "cell_type": "markdown",
   "metadata": {},
   "source": [
    "I'm using b8:27:eb:bf:9d:51 to fill the null value because it's more often used than others."
   ]
  },
  {
   "cell_type": "code",
   "execution_count": 11,
   "metadata": {},
   "outputs": [],
   "source": [
    "df['device'].fillna(\"b8:27:eb:bf:9d:51\", inplace=True)"
   ]
  },
  {
   "attachments": {},
   "cell_type": "markdown",
   "metadata": {},
   "source": [
    "Filling null values with the mean"
   ]
  },
  {
   "cell_type": "code",
   "execution_count": 12,
   "metadata": {},
   "outputs": [],
   "source": [
    "mean_co = df['co'].mean()\n",
    "df['co'].fillna(mean_co, inplace=True)"
   ]
  },
  {
   "cell_type": "code",
   "execution_count": 13,
   "metadata": {},
   "outputs": [
    {
     "data": {
      "text/plain": [
       "56.95041650685025"
      ]
     },
     "execution_count": 13,
     "metadata": {},
     "output_type": "execute_result"
    }
   ],
   "source": [
    "mean_humidity = df[\"humidity\"].mean()\n",
    "mean_humidity"
   ]
  },
  {
   "cell_type": "code",
   "execution_count": 14,
   "metadata": {},
   "outputs": [],
   "source": [
    "df[\"humidity\"].fillna(mean_humidity, inplace=True)"
   ]
  },
  {
   "cell_type": "code",
   "execution_count": 15,
   "metadata": {},
   "outputs": [
    {
     "data": {
      "text/plain": [
       "False"
      ]
     },
     "execution_count": 15,
     "metadata": {},
     "output_type": "execute_result"
    }
   ],
   "source": [
    "most_frequent_light = df['light'].mode()[0]\n",
    "most_frequent_light"
   ]
  },
  {
   "cell_type": "code",
   "execution_count": 16,
   "metadata": {},
   "outputs": [],
   "source": [
    "df['light'].fillna(most_frequent_light, inplace=True)"
   ]
  },
  {
   "cell_type": "code",
   "execution_count": 17,
   "metadata": {},
   "outputs": [
    {
     "data": {
      "text/plain": [
       "0.007509928917851949"
      ]
     },
     "execution_count": 17,
     "metadata": {},
     "output_type": "execute_result"
    }
   ],
   "source": [
    "mean_lpg = df[\"lpg\"].mean()\n",
    "mean_lpg"
   ]
  },
  {
   "cell_type": "code",
   "execution_count": 18,
   "metadata": {},
   "outputs": [],
   "source": [
    "df['lpg'].fillna(mean_lpg, inplace=True)"
   ]
  },
  {
   "cell_type": "code",
   "execution_count": 19,
   "metadata": {},
   "outputs": [
    {
     "data": {
      "text/plain": [
       "False"
      ]
     },
     "execution_count": 19,
     "metadata": {},
     "output_type": "execute_result"
    }
   ],
   "source": [
    "most_frequent_motion = df['motion'].mode()[0]\n",
    "most_frequent_motion"
   ]
  },
  {
   "cell_type": "code",
   "execution_count": 20,
   "metadata": {},
   "outputs": [],
   "source": [
    "df['motion'].fillna(most_frequent_motion, inplace=True)"
   ]
  },
  {
   "cell_type": "code",
   "execution_count": 21,
   "metadata": {},
   "outputs": [
    {
     "data": {
      "text/plain": [
       "0.02002149738316239"
      ]
     },
     "execution_count": 21,
     "metadata": {},
     "output_type": "execute_result"
    }
   ],
   "source": [
    "mean_smoke = df[\"smoke\"].mean()\n",
    "mean_smoke"
   ]
  },
  {
   "cell_type": "code",
   "execution_count": 22,
   "metadata": {},
   "outputs": [],
   "source": [
    "df['smoke'].fillna(mean_smoke, inplace=True)"
   ]
  },
  {
   "cell_type": "code",
   "execution_count": 23,
   "metadata": {},
   "outputs": [
    {
     "data": {
      "text/plain": [
       "22.431342440884745"
      ]
     },
     "execution_count": 23,
     "metadata": {},
     "output_type": "execute_result"
    }
   ],
   "source": [
    "mean_temp = df[\"temp\"].mean()\n",
    "mean_temp"
   ]
  },
  {
   "cell_type": "code",
   "execution_count": 24,
   "metadata": {},
   "outputs": [],
   "source": [
    "df['temp'].fillna(mean_temp, inplace=True)"
   ]
  },
  {
   "cell_type": "code",
   "execution_count": 25,
   "metadata": {},
   "outputs": [
    {
     "data": {
      "text/plain": [
       "ts          0\n",
       "device      0\n",
       "co          0\n",
       "humidity    0\n",
       "light       0\n",
       "lpg         0\n",
       "motion      0\n",
       "smoke       0\n",
       "temp        0\n",
       "dtype: int64"
      ]
     },
     "execution_count": 25,
     "metadata": {},
     "output_type": "execute_result"
    }
   ],
   "source": [
    "df.isna().sum()"
   ]
  },
  {
   "cell_type": "code",
   "execution_count": 26,
   "metadata": {},
   "outputs": [],
   "source": [
    "df['ts'] = pd.to_datetime(df['ts'], unit='s')"
   ]
  },
  {
   "cell_type": "code",
   "execution_count": 27,
   "metadata": {},
   "outputs": [],
   "source": [
    "df['date'] = df['ts'].dt.date.astype(str)\n",
    "df['time'] = df['ts'].dt.time"
   ]
  },
  {
   "cell_type": "code",
   "execution_count": 28,
   "metadata": {},
   "outputs": [],
   "source": [
    "df.drop('ts', axis=1, inplace=True)"
   ]
  },
  {
   "cell_type": "code",
   "execution_count": 29,
   "metadata": {},
   "outputs": [],
   "source": [
    "# df.to_csv('cleaned_iot_telemetry_data.csv', index=False)"
   ]
  },
  {
   "cell_type": "code",
   "execution_count": 30,
   "metadata": {},
   "outputs": [
    {
     "name": "stdout",
     "output_type": "stream",
     "text": [
      "<class 'pandas.core.frame.DataFrame'>\n",
      "Int64Index: 52942 entries, 0 to 99535\n",
      "Data columns (total 10 columns):\n",
      " #   Column    Non-Null Count  Dtype  \n",
      "---  ------    --------------  -----  \n",
      " 0   device    52942 non-null  object \n",
      " 1   co        52942 non-null  float64\n",
      " 2   humidity  52942 non-null  float64\n",
      " 3   light     52942 non-null  bool   \n",
      " 4   lpg       52942 non-null  float64\n",
      " 5   motion    52942 non-null  bool   \n",
      " 6   smoke     52942 non-null  float64\n",
      " 7   temp      52942 non-null  float64\n",
      " 8   date      52942 non-null  object \n",
      " 9   time      52942 non-null  object \n",
      "dtypes: bool(2), float64(5), object(3)\n",
      "memory usage: 3.7+ MB\n"
     ]
    }
   ],
   "source": [
    "df.info()"
   ]
  }
 ],
 "metadata": {
  "kernelspec": {
   "display_name": "base",
   "language": "python",
   "name": "python3"
  },
  "language_info": {
   "codemirror_mode": {
    "name": "ipython",
    "version": 3
   },
   "file_extension": ".py",
   "mimetype": "text/x-python",
   "name": "python",
   "nbconvert_exporter": "python",
   "pygments_lexer": "ipython3",
   "version": "3.9.16"
  },
  "orig_nbformat": 4
 },
 "nbformat": 4,
 "nbformat_minor": 2
}
